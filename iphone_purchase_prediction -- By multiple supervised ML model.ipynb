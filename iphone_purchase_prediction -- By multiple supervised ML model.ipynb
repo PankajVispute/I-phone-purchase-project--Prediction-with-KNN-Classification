{
 "cells": [
  {
   "cell_type": "code",
   "execution_count": 1,
   "id": "0a847654",
   "metadata": {},
   "outputs": [],
   "source": [
    "import pandas as pd"
   ]
  },
  {
   "cell_type": "code",
   "execution_count": 14,
   "id": "7c6e9af5",
   "metadata": {},
   "outputs": [],
   "source": [
    "## read data function\n",
    "def read_data():\n",
    "    data=pd.read_csv(r\"C:\\Users\\pv11379\\OneDrive - Deere & Co\\Desktop\\Personal folder\\Data science\\Database/iphone_purchase_records.csv\")\n",
    "    return data\n",
    "\n",
    "df=read_data()"
   ]
  },
  {
   "cell_type": "code",
   "execution_count": 92,
   "id": "e359beda",
   "metadata": {},
   "outputs": [],
   "source": [
    "## importing necessary liabraries\n",
    "from sklearn.model_selection import train_test_split\n",
    "from sklearn.preprocessing import StandardScaler,MinMaxScaler,RobustScaler\n",
    "from sklearn.tree import DecisionTreeClassifier\n",
    "from sklearn.metrics import accuracy_score,precision_score,confusion_matrix,classification_report,r2_score\n",
    "from sklearn.ensemble import RandomForestClassifier\n",
    "import time\n",
    "from sklearn.linear_model import LogisticRegression\n",
    "from sklearn.neighbors import KNeighborsClassifier\n",
    "from math import sqrt\n",
    "from sklearn.linear_model import LinearRegression"
   ]
  },
  {
   "cell_type": "code",
   "execution_count": 21,
   "id": "ab562136",
   "metadata": {
    "collapsed": true
   },
   "outputs": [],
   "source": [
    "## convert categorical data into numeric data\n",
    "gender={'Male':0,'Female':1}\n",
    "df['Genders']=df['Gender'].map(gender)"
   ]
  },
  {
   "cell_type": "code",
   "execution_count": 68,
   "id": "6ad64cbc",
   "metadata": {},
   "outputs": [
    {
     "name": "stdout",
     "output_type": "stream",
     "text": [
      "accuracy score is -  0.925\n",
      "precision score is-  0.8484848484848485\n",
      "confusion metrix is-  [[46  5]\n",
      " [ 1 28]]\n"
     ]
    }
   ],
   "source": [
    "## Random_forest classifier\n",
    "def data_processing(df):\n",
    "    x=df[['Genders','Age','Salary']]\n",
    "    y=df['Purchase Iphone']\n",
    "    sc=StandardScaler()\n",
    "    sc_x=sc.fit_transform(x)\n",
    "    x_train,x_test,y_train,y_test=train_test_split(sc_x,y,train_size=0.8,random_state=2020,stratify=y)\n",
    "    return x_train,x_test,y_train,y_test\n",
    "\n",
    "x_train,x_test,y_train,y_test=data_processing(df)\n",
    "\n",
    "def model(x_train,x_test,y_train):\n",
    "    model=RandomForestClassifier(criterion='entropy',max_depth=10)\n",
    "    model.fit(x_train,y_train)\n",
    "    pred=model.predict(x_test)\n",
    "    return pred\n",
    "\n",
    "pred=model(x_train,x_test,y_train)\n",
    "\n",
    "def validation(y_test,pred):\n",
    "    acc=accuracy_score(y_test,pred)\n",
    "    conf=confusion_matrix(y_test,pred)\n",
    "    pre=precision_score(y_test,pred)\n",
    "    return acc,conf,pre\n",
    "\n",
    "acc,conf,pre=validation(y_test,pred)\n",
    "\n",
    "print(\"accuracy score is - \",acc)\n",
    "print(\"precision score is- \",pre)\n",
    "print(\"confusion metrix is- \",conf)"
   ]
  },
  {
   "cell_type": "code",
   "execution_count": 71,
   "id": "742a1cb6",
   "metadata": {},
   "outputs": [
    {
     "name": "stdout",
     "output_type": "stream",
     "text": [
      "accuracy score is -  0.8375\n",
      "precision score is-  0.8333333333333334\n",
      "confusion metrix is-  [[47  4]\n",
      " [ 9 20]]\n"
     ]
    }
   ],
   "source": [
    "## logistic regression \n",
    "def lg_model(x_train,x_test,y_train):\n",
    "    model1=LogisticRegression()\n",
    "    model1.fit(x_train,y_train)\n",
    "    pred1=model1.predict(x_test)\n",
    "    return pred1\n",
    "\n",
    "pred1=lg_model(x_train,x_test,y_train)\n",
    "\n",
    "def validation(y_test,pred1):\n",
    "    acc1=accuracy_score(y_test,pred1)\n",
    "    conf1=confusion_matrix(y_test,pred1)\n",
    "    pre1=precision_score(y_test,pred1)\n",
    "    return acc1,conf1,pre1\n",
    "\n",
    "acc1,conf1,pre1=validation(y_test,pred1)\n",
    "\n",
    "print(\"accuracy score is - \",acc1)\n",
    "print(\"precision score is- \",pre1)\n",
    "print(\"confusion metrix is- \",conf1)"
   ]
  },
  {
   "cell_type": "code",
   "execution_count": 88,
   "id": "91372154",
   "metadata": {},
   "outputs": [
    {
     "name": "stdout",
     "output_type": "stream",
     "text": [
      "20.0\n",
      "accuracy score is -  0.925\n",
      "precision score is-  0.8709677419354839\n",
      "confusion metrix is-  [[47  4]\n",
      " [ 2 27]]\n"
     ]
    }
   ],
   "source": [
    "## KNN Classifier\n",
    "def k_value(df):\n",
    "    k=sqrt(df.shape[0])\n",
    "    return k\n",
    "k=k_value(df)\n",
    "print(k)\n",
    "\n",
    "def knn_model(x_train,x_test,y_train):\n",
    "    model2=KNeighborsClassifier(n_neighbors=21)\n",
    "    model2.fit(x_train,y_train)\n",
    "    pred2=model2.predict(x_test)\n",
    "    return pred2\n",
    "\n",
    "pred2=knn_model(x_train,x_test,y_train)\n",
    "\n",
    "def validation(y_test,pred2):\n",
    "    acc2=accuracy_score(y_test,pred2)\n",
    "    conf2=confusion_matrix(y_test,pred2)\n",
    "    pre2=precision_score(y_test,pred2)\n",
    "    return acc2,conf2,pre2\n",
    "\n",
    "acc2,conf2,pre2=validation(y_test,pred2)\n",
    "\n",
    "print(\"accuracy score is - \",acc2)\n",
    "print(\"precision score is- \",pre2)\n",
    "print(\"confusion metrix is- \",conf2)"
   ]
  },
  {
   "cell_type": "code",
   "execution_count": 96,
   "id": "47d07724",
   "metadata": {},
   "outputs": [
    {
     "name": "stdout",
     "output_type": "stream",
     "text": [
      "intercept is- 0.3636584040185817\n",
      "coef is -  [-0.0151891   0.27884494  0.13445458]\n",
      "score is -  0.39078187748003856\n"
     ]
    }
   ],
   "source": [
    "## Multiple linear regression\n",
    "def linear_model(x_train,x_test,y_train):\n",
    "    model3=LinearRegression()\n",
    "    model3.fit(x_train,y_train)\n",
    "    pred3=model3.predict(x_test)\n",
    "    print(\"intercept is-\",model3.intercept_)\n",
    "    print(\"coef is - \",model3.coef_)\n",
    "    return pred3\n",
    "\n",
    "pred3=linear_model(x_train,x_test,y_train)\n",
    "\n",
    "def validation(y_test,pred3):\n",
    "    score=r2_score(y_test,pred3)\n",
    "    return score\n",
    "\n",
    "score=validation(y_test,pred3)\n",
    "\n",
    "print(\"score is - \",score)"
   ]
  },
  {
   "cell_type": "code",
   "execution_count": 102,
   "id": "ac836a68",
   "metadata": {},
   "outputs": [
    {
     "name": "stdout",
     "output_type": "stream",
     "text": [
      "accuracy score is -  0.9125\n",
      "precision score is-  0.84375\n",
      "confusion metrix is-  [[46  5]\n",
      " [ 2 27]]\n"
     ]
    }
   ],
   "source": [
    "## Descision tree classifier\n",
    "def tr_model(x_train,x_test,y_train):\n",
    "    model4=DecisionTreeClassifier(criterion='entropy',max_depth=5)\n",
    "    model4.fit(x_train,y_train)\n",
    "    pred4=model4.predict(x_test)\n",
    "    return pred4\n",
    "\n",
    "pred4=tr_model(x_train,x_test,y_train)\n",
    "\n",
    "def validation(y_test,pred4):\n",
    "    acc4=accuracy_score(y_test,pred4)\n",
    "    conf4=confusion_matrix(y_test,pred4)\n",
    "    pre4=precision_score(y_test,pred4)\n",
    "    return acc4,conf4,pre4\n",
    "\n",
    "acc4,conf4,pre4=validation(y_test,pred4)\n",
    "\n",
    "print(\"accuracy score is - \",acc4)\n",
    "print(\"precision score is- \",pre4)\n",
    "print(\"confusion metrix is- \",conf4)"
   ]
  },
  {
   "cell_type": "markdown",
   "id": "069c4e2b",
   "metadata": {},
   "source": [
    "## Random forest classifier model having highest accuracy value i.e 92.5%. Hence this model is suitable for better prediction."
   ]
  },
  {
   "cell_type": "code",
   "execution_count": null,
   "id": "95b3eb01",
   "metadata": {},
   "outputs": [],
   "source": []
  }
 ],
 "metadata": {
  "kernelspec": {
   "display_name": "Python 3 (ipykernel)",
   "language": "python",
   "name": "python3"
  },
  "language_info": {
   "codemirror_mode": {
    "name": "ipython",
    "version": 3
   },
   "file_extension": ".py",
   "mimetype": "text/x-python",
   "name": "python",
   "nbconvert_exporter": "python",
   "pygments_lexer": "ipython3",
   "version": "3.11.4"
  }
 },
 "nbformat": 4,
 "nbformat_minor": 5
}
